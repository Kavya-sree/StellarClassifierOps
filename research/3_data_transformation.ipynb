{
 "cells": [
  {
   "cell_type": "code",
   "execution_count": 3,
   "metadata": {},
   "outputs": [],
   "source": [
    "import os"
   ]
  },
  {
   "cell_type": "code",
   "execution_count": 1,
   "metadata": {},
   "outputs": [
    {
     "data": {
      "text/plain": [
       "'d:\\\\MLOps Projects\\\\StellarClassifierOps\\\\research'"
      ]
     },
     "execution_count": 1,
     "metadata": {},
     "output_type": "execute_result"
    }
   ],
   "source": [
    "%pwd"
   ]
  },
  {
   "cell_type": "code",
   "execution_count": 4,
   "metadata": {},
   "outputs": [],
   "source": [
    "os.chdir(\"../\")"
   ]
  },
  {
   "cell_type": "code",
   "execution_count": 20,
   "metadata": {},
   "outputs": [
    {
     "data": {
      "text/plain": [
       "'d:\\\\MLOps Projects\\\\StellarClassifierOps'"
      ]
     },
     "execution_count": 20,
     "metadata": {},
     "output_type": "execute_result"
    }
   ],
   "source": [
    "%pwd"
   ]
  },
  {
   "cell_type": "code",
   "execution_count": 41,
   "metadata": {},
   "outputs": [],
   "source": [
    "from dataclasses import dataclass\n",
    "from pathlib import Path\n",
    "\n",
    "@dataclass\n",
    "class DataTransformationConfig:\n",
    "    root_dir: Path\n",
    "    data_path: Path\n",
    "    test_size: float\n",
    "    random_state: int\n",
    "    target_column: str\n",
    "    numerical_columns: list"
   ]
  },
  {
   "cell_type": "code",
   "execution_count": 42,
   "metadata": {},
   "outputs": [],
   "source": [
    "from src.StellarClassifier.constants import *\n",
    "from src.StellarClassifier.utils.common import read_yaml, create_directories"
   ]
  },
  {
   "cell_type": "code",
   "execution_count": 43,
   "metadata": {},
   "outputs": [],
   "source": [
    "class ConfigurationManager:\n",
    "    def __init__(\n",
    "            self,\n",
    "            config_filepath= CONFIG_FILE_PATH,\n",
    "            params_filepath = PARAMS_FILE_PATH,\n",
    "            schema_filepath = SCHEMA_FILE_PATH):\n",
    "        \n",
    "        self.config = read_yaml(config_filepath)\n",
    "        self.params = read_yaml(params_filepath)\n",
    "        self.schema = read_yaml(schema_filepath)\n",
    "\n",
    "        create_directories([self.config.artifacts_root])\n",
    "\n",
    "    def get_data_transformation_config(self) -> DataTransformationConfig:\n",
    "        config = self.config.data_transformation\n",
    "        params = self.params.data_transformation\n",
    "        schema = self.schema\n",
    "        create_directories([config.root_dir])\n",
    "        data_transformation_config=DataTransformationConfig(\n",
    "            root_dir=config.root_dir,\n",
    "            data_path=config.data_path,\n",
    "            test_size= params.test_size,\n",
    "            random_state=params.random_state,\n",
    "            target_column= schema.TARGET_COLUMN['name'],\n",
    "            numerical_columns= [col for col, dtype in schema['COLUMNS'].items() if dtype == 'float64']\n",
    "        )\n",
    "        return data_transformation_config"
   ]
  },
  {
   "cell_type": "code",
   "execution_count": 44,
   "metadata": {},
   "outputs": [],
   "source": [
    "import os\n",
    "from src.StellarClassifier import logger\n",
    "from sklearn.model_selection import train_test_split\n",
    "import pandas as pd\n",
    "\n",
    "\n",
    "from sklearn.preprocessing import MinMaxScaler\n",
    "from imblearn.over_sampling import SMOTE"
   ]
  },
  {
   "cell_type": "code",
   "execution_count": 49,
   "metadata": {},
   "outputs": [],
   "source": [
    "class DataTransformation:\n",
    "    def __init__(self, config: DataTransformationConfig):\n",
    "        self.config = config\n",
    "\n",
    "    \n",
    "    def train_test_spliting(self):\n",
    "        # Load data\n",
    "        data = pd.read_csv(self.config.data_path)\n",
    "        logger.info(\"Loaded data for train-test split.\")\n",
    "\n",
    "        # Split data\n",
    "        train, test = train_test_split(\n",
    "            data,\n",
    "            test_size=self.config.test_size,\n",
    "            random_state=self.config.random_state\n",
    "        )\n",
    "        logger.info(\"Split data into training and test sets.\")\n",
    "        return train, test\n",
    "\n",
    "    def apply_smote(self, train_data):\n",
    "        logger.info(\"Applying SMOTE for class imbalance...\")\n",
    "        smote = SMOTE(random_state=self.config.random_state)\n",
    "        X = train_data.drop(columns=[self.config.target_column])\n",
    "        y = train_data[self.config.target_column]\n",
    "\n",
    "        #shape before SMOTE\n",
    "        logger.info(f\"shape before SMOTE: Features: {X.shape}, Target: {y.shape}\")\n",
    "\n",
    "        X_resampled, y_resampled = smote.fit_resample(X, y)\n",
    "\n",
    "        logger.info(f\"Shape after SMOTE: Features: {X_resampled.shape}, Target: {y_resampled.shape}\")\n",
    "\n",
    "        resampled_data = pd.concat([pd.DataFrame(X_resampled), pd.Series(y_resampled)], axis=1)\n",
    "        logger.info(\"SMOTE applied successfully.\")\n",
    "        return resampled_data\n",
    "\n",
    "    def normalize_data(self, data):\n",
    "        logger.info(\"Normalizing data...\")\n",
    "        scaler = MinMaxScaler()\n",
    "\n",
    "        # Normalize only numerical columns\n",
    "        numerical_data = data[self.config.numerical_columns]\n",
    "        scaled_values = scaler.fit_transform(numerical_data)\n",
    "        \n",
    "        # Replace original columns with normalized values\n",
    "        data[self.config.numerical_columns] = scaled_values\n",
    "        logger.info(\"Data normalization completed.\")\n",
    "        return data\n"
   ]
  },
  {
   "cell_type": "code",
   "execution_count": 50,
   "metadata": {},
   "outputs": [
    {
     "name": "stdout",
     "output_type": "stream",
     "text": [
      "[2024-12-13 09:28:31,980: INFO: common: yaml file: config\\config.yaml loaded successfully]\n",
      "[2024-12-13 09:28:31,982: INFO: common: yaml file: params.yaml loaded successfully]\n",
      "[2024-12-13 09:28:31,983: INFO: common: yaml file: schema.yaml loaded successfully]\n",
      "[2024-12-13 09:28:31,984: INFO: common: created directory at: artifacts]\n",
      "[2024-12-13 09:28:31,984: INFO: common: created directory at: artifacts/data_transformation]\n",
      "[2024-12-13 09:28:32,053: INFO: 1008500690: Loaded data for train-test split.]\n",
      "[2024-12-13 09:28:32,061: INFO: 1008500690: Split data into training and test sets.]\n",
      "[2024-12-13 09:28:32,063: INFO: 1008500690: Applying SMOTE for class imbalance...]\n",
      "[2024-12-13 09:28:32,064: INFO: 1008500690: shape before SMOTE: Features: (74999, 6), Target: (74999,)]\n",
      "[2024-12-13 09:28:32,386: INFO: 1008500690: Shape after SMOTE: Features: (133704, 6), Target: (133704,)]\n",
      "[2024-12-13 09:28:32,392: INFO: 1008500690: SMOTE applied successfully.]\n",
      "[2024-12-13 09:28:32,394: INFO: 1008500690: Normalizing data...]\n",
      "[2024-12-13 09:28:32,404: INFO: 1008500690: Data normalization completed.]\n",
      "[2024-12-13 09:28:32,407: INFO: 1008500690: Normalizing data...]\n",
      "[2024-12-13 09:28:32,413: INFO: 1008500690: Data normalization completed.]\n",
      "[2024-12-13 09:28:32,415: INFO: common: created directory at: artifacts/data_transformation]\n",
      "[2024-12-13 09:28:33,362: INFO: common: created directory at: artifacts/data_transformation]\n",
      "[2024-12-13 09:28:33,516: INFO: 1522320364: Data Transformation pipeline completed.]\n"
     ]
    }
   ],
   "source": [
    "try:\n",
    "    config = ConfigurationManager()\n",
    "    data_trasformation_config = config.get_data_transformation_config()\n",
    "    data_transformation = DataTransformation(config=data_trasformation_config)\n",
    "\n",
    "    # Train-test split\n",
    "    train, test = data_transformation.train_test_spliting()\n",
    "\n",
    "    # Apply SMOTE\n",
    "    resampled_train = data_transformation.apply_smote(train)\n",
    "\n",
    "    # Normalize data\n",
    "    normalized_train = data_transformation.normalize_data(resampled_train)\n",
    "    normalized_test = data_transformation.normalize_data(test)\n",
    "\n",
    "    # Save processed data\n",
    "    normalized_train.to_csv(os.path.join(config.get_data_transformation_config().root_dir, \"normalized_train.csv\"), index=False)\n",
    "    normalized_test.to_csv(os.path.join(config.get_data_transformation_config().root_dir, \"normalized_test.csv\"), index=False)\n",
    "\n",
    "    logger.info(\"Data Transformation pipeline completed.\")\n",
    "\n",
    "except Exception as e: \n",
    "    raise e"
   ]
  },
  {
   "cell_type": "code",
   "execution_count": null,
   "metadata": {},
   "outputs": [],
   "source": []
  }
 ],
 "metadata": {
  "kernelspec": {
   "display_name": "venv",
   "language": "python",
   "name": "python3"
  },
  "language_info": {
   "codemirror_mode": {
    "name": "ipython",
    "version": 3
   },
   "file_extension": ".py",
   "mimetype": "text/x-python",
   "name": "python",
   "nbconvert_exporter": "python",
   "pygments_lexer": "ipython3",
   "version": "3.11.5"
  }
 },
 "nbformat": 4,
 "nbformat_minor": 2
}
